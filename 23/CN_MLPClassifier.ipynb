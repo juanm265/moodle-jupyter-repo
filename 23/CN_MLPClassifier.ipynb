{
 "cells": [
  {
   "cell_type": "markdown",
   "id": "dd449c85",
   "metadata": {},
   "source": [
    "# Clasificación Multiclase con MLPClassifier\n",
    "Este notebook muestra cómo entrenar y visualizar un perceptrón multicapa (MLP) para clasificar datos sintéticos. Se explican los pasos principales: generación de datos, entrenamiento, evaluación y visualización de la superficie de decisión."
   ]
  },
  {
   "cell_type": "code",
   "execution_count": null,
   "id": "f2ac4701",
   "metadata": {},
   "outputs": [],
   "source": [
    "import matplotlib.pyplot as plt\n",
    "import numpy as np\n",
    "from sklearn.datasets import make_blobs\n",
    "from sklearn.model_selection import train_test_split\n",
    "from sklearn.neural_network import MLPClassifier\n",
    "from sklearn.metrics import accuracy_score"
   ]
  },
  {
   "cell_type": "markdown",
   "id": "5599258b",
   "metadata": {},
   "source": [
    "## Generación de datos\n",
    "Utilizamos `make_blobs` para generar un conjunto de datos sintéticos con 4 centros (clases)."
   ]
  },
  {
   "cell_type": "code",
   "execution_count": null,
   "id": "c55a6c4e",
   "metadata": {},
   "outputs": [],
   "source": [
    "# Parámetros de red neuronal\n",
    "hidden_layer_sizes = (8, 4)  # Cantidad de capas ocultas y neuronas por capa\n",
    "\n",
    "n_samples = 200\n",
    "blob_centers = ([1, 1], [3, 4], [1, 3.3], [3.5, 1.8])\n",
    "data, labels = make_blobs(n_samples=n_samples,\n",
    "                          centers=blob_centers,\n",
    "                          cluster_std=0.5,\n",
    "                          random_state=0)\n",
    "\n",
    "# Visualización inicial\n",
    "colours = ('green', 'orange', 'blue', 'magenta')\n",
    "fig, ax = plt.subplots()\n",
    "for n_class in range(len(blob_centers)):\n",
    "    ax.scatter(data[labels==n_class][:, 0],\n",
    "               data[labels==n_class][:, 1],\n",
    "               c=colours[n_class], s=30,\n",
    "               label=f\"Clase {n_class}\")\n",
    "plt.legend()\n",
    "plt.title(\"Distribución de las clases\")\n",
    "plt.show()"
   ]
  },
  {
   "cell_type": "markdown",
   "id": "6c25b8be",
   "metadata": {},
   "source": [
    "## División en entrenamiento y prueba\n",
    "Dividimos los datos en 80% para entrenamiento y 20% para prueba usando `train_test_split`."
   ]
  },
  {
   "cell_type": "code",
   "execution_count": null,
   "id": "69b94f47",
   "metadata": {},
   "outputs": [],
   "source": [
    "train_data, test_data, train_labels, test_labels = train_test_split(\n",
    "    data, labels, test_size=0.2, random_state=42)"
   ]
  },
  {
   "cell_type": "markdown",
   "id": "f48c43c7",
   "metadata": {},
   "source": [
    "## Entrenamiento del clasificador MLP\n",
    "Entrenamos un MLPClassifier con el solver `lbfgs` y visualizamos la precisión."
   ]
  },
  {
   "cell_type": "code",
   "execution_count": null,
   "id": "1e4b29df",
   "metadata": {},
   "outputs": [],
   "source": [
    "clf = MLPClassifier(solver='lbfgs', alpha=1e-5,\n",
    "                    hidden_layer_sizes=hidden_layer_sizes,\n",
    "                    random_state=1)\n",
    "clf.fit(train_data, train_labels)\n",
    "\n",
    "predictions_train = clf.predict(train_data)\n",
    "predictions_test = clf.predict(test_data)\n",
    "train_score = accuracy_score(predictions_train, train_labels)\n",
    "test_score = accuracy_score(predictions_test, test_labels)\n",
    "print(\"Precisión sobre datos de entrenamiento: \", train_score)\n",
    "print(\"Precisión sobre datos de prueba: \", test_score)"
   ]
  },
  {
   "cell_type": "markdown",
   "id": "5ab11260",
   "metadata": {},
   "source": [
    "## Visualización de la superficie de decisión\n",
    "Se grafica la región de decisión aprendida por el modelo MLP junto con los datos reales."
   ]
  },
  {
   "cell_type": "code",
   "execution_count": null,
   "id": "a4a282e7",
   "metadata": {},
   "outputs": [],
   "source": [
    "# Definir los límites del gráfico\n",
    "x_min, x_max = data[:, 0].min() - 1, data[:, 0].max() + 1\n",
    "y_min, y_max = data[:, 1].min() - 1, data[:, 1].max() + 1\n",
    "h = 0.02  # resolución de la malla\n",
    "xx, yy = np.meshgrid(np.arange(x_min, x_max, h),\n",
    "                     np.arange(y_min, y_max, h))\n",
    "\n",
    "Z = clf.predict(np.c_[xx.ravel(), yy.ravel()])\n",
    "Z = Z.reshape(xx.shape)\n",
    "\n",
    "plt.figure(figsize=(8, 6))\n",
    "plt.contourf(xx, yy, Z, alpha=0.3, cmap=plt.cm.rainbow)\n",
    "for n_class in range(len(blob_centers)):\n",
    "    plt.scatter(data[labels==n_class][:, 0],\n",
    "                data[labels==n_class][:, 1],\n",
    "                c=colours[n_class], s=30,\n",
    "                label=f\"Clase {n_class}\")\n",
    "plt.title(\"Superficie de decisión del MLP\")\n",
    "plt.legend()\n",
    "plt.show()"
   ]
  }
 ],
 "metadata": {
  "kernelspec": {
   "display_name": "Python 3",
   "name": "python3"
  }
 },
 "nbformat": 4,
 "nbformat_minor": 5
}