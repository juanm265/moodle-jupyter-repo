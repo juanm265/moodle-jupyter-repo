{
 "cells": [
  {
   "cell_type": "markdown",
   "id": "41f2bb9b",
   "metadata": {},
   "source": [
    "# Ajuste Polinomial: Underfitting vs. Overfitting\n",
    "\n",
    "Este notebook muestra de forma didáctica cómo el uso de modelos polinomiales puede llevar a underfitting o overfitting, dependiendo de su grado de complejidad.\n",
    "\n",
    "La función objetivo que intentamos aproximar es:\n",
    "\n",
    "$$\n",
    "f(x) = x^3 + \\sin(3x)\n",
    "$$\n",
    "\n",
    "Esta función contiene componentes tanto polinómicas como periódicas, haciendo que su modelado con polinomios puros sea desafiante.\n"
   ]
  },
  {
   "cell_type": "code",
   "execution_count": null,
   "id": "00323c90",
   "metadata": {},
   "outputs": [],
   "source": [
    "import numpy as np\n",
    "import matplotlib.pyplot as plt\n",
    "from sklearn.preprocessing import PolynomialFeatures\n",
    "from sklearn.linear_model import LinearRegression\n",
    "from sklearn.metrics import mean_squared_error\n",
    "\n",
    "def f(x):\n",
    "    \"\"\"\n",
    "    Función objetivo: polinomio cúbico + componente sinusoidal\n",
    "    \"\"\"\n",
    "    return x**3 + np.sin(3 * x)\n"
   ]
  },
  {
   "cell_type": "markdown",
   "id": "04e5c2e0",
   "metadata": {},
   "source": [
    "## Generación de datos\n",
    "\n",
    "Generamos puntos aleatorios distribuidos uniformemente en el intervalo $[-2, 2]$, que se dividen en conjuntos de entrenamiento y testeo.\n"
   ]
  },
  {
   "cell_type": "code",
   "execution_count": null,
   "id": "132c3d2e",
   "metadata": {},
   "outputs": [],
   "source": [
    "# Cantidad de muestras\n",
    "n_train = 10\n",
    "n_test = 20\n",
    "\n",
    "# Generamos puntos uniformes y barajamos\n",
    "X_all = np.linspace(-2, 2, n_train + n_test)\n",
    "np.random.shuffle(X_all)\n",
    "\n",
    "# División en entrenamiento y prueba\n",
    "x_train = np.sort(X_all[:n_train]).reshape(-1, 1)\n",
    "x_test = np.sort(X_all[n_train:]).reshape(-1, 1)\n",
    "\n",
    "y_train = f(x_train)\n",
    "y_test = f(x_test)\n"
   ]
  },
  {
   "cell_type": "markdown",
   "id": "d55e3540",
   "metadata": {},
   "source": [
    "## Ajuste polinomial\n",
    "\n",
    "Ajustamos dos modelos:\n",
    "- **Grado 2**: subrepresenta la complejidad de $f(x)$ (*underfitting*).\n",
    "- **Grado 20**: se ajusta excesivamente a los datos de entrenamiento (*overfitting*).\n"
   ]
  },
  {
   "cell_type": "code",
   "execution_count": null,
   "id": "82df5647",
   "metadata": {},
   "outputs": [],
   "source": [
    "# Modelo grado 2\n",
    "poly2 = PolynomialFeatures(degree=2)\n",
    "x_train_poly2 = poly2.fit_transform(x_train)\n",
    "x_test_poly2 = poly2.transform(x_test)\n",
    "model2 = LinearRegression().fit(x_train_poly2, y_train)\n",
    "y_pred_train2 = model2.predict(x_train_poly2)\n",
    "y_pred_test2 = model2.predict(x_test_poly2)\n",
    "\n",
    "# Modelo grado 20\n",
    "poly20 = PolynomialFeatures(degree=20)\n",
    "x_train_poly20 = poly20.fit_transform(x_train)\n",
    "x_test_poly20 = poly20.transform(x_test)\n",
    "model20 = LinearRegression().fit(x_train_poly20, y_train)\n",
    "y_pred_train20 = model20.predict(x_train_poly20)\n",
    "y_pred_test20 = model20.predict(x_test_poly20)\n"
   ]
  },
  {
   "cell_type": "markdown",
   "id": "f01269ad",
   "metadata": {},
   "source": [
    "## Visualización de resultados\n",
    "\n",
    "Mostramos las curvas ajustadas y la función real para comparar el comportamiento de cada modelo.\n"
   ]
  },
  {
   "cell_type": "code",
   "execution_count": null,
   "id": "8703145c",
   "metadata": {},
   "outputs": [],
   "source": [
    "x_plot = np.linspace(-2.8, 2.8, 500).reshape(-1, 1)\n",
    "y_true = f(x_plot.flatten())\n",
    "\n",
    "plt.figure(figsize=(12, 5))\n",
    "\n",
    "plt.subplot(1, 2, 1)\n",
    "plt.title(\"Underfitting: Grado 2\")\n",
    "plt.plot(x_plot, f(x_plot.flatten()), '--', color='black', label='Función real')\n",
    "plt.scatter(x_train, y_train, color='blue', label='Datos entrenamiento')\n",
    "plt.scatter(x_test, y_test, color='green', label='Datos test')\n",
    "plt.plot(x_plot, model2.predict(poly2.transform(x_plot)), color='red', label='Predicción grado 2')\n",
    "plt.ylim(-20, 20)\n",
    "plt.legend()\n",
    "\n",
    "plt.subplot(1, 2, 2)\n",
    "plt.title(\"Overfitting: Grado 20\")\n",
    "plt.plot(x_plot, f(x_plot.flatten()), '--', color='black', label='Función real')\n",
    "plt.scatter(x_train, y_train, color='blue', label='Datos entrenamiento')\n",
    "plt.scatter(x_test, y_test, color='green', label='Datos test')\n",
    "plt.plot(x_plot, model20.predict(poly20.transform(x_plot)), color='red', label='Predicción grado 20')\n",
    "plt.ylim(-20, 20)\n",
    "plt.legend()\n",
    "\n",
    "plt.tight_layout()\n",
    "plt.show()\n"
   ]
  },
  {
   "cell_type": "markdown",
   "id": "fb5501ee",
   "metadata": {},
   "source": [
    "## Evaluación con MSE\n",
    "\n",
    "Utilizamos el **Error Cuadrático Medio (MSE)** para comparar el desempeño de los modelos en el conjunto de testeo:\n",
    "\n",
    "$$\n",
    "\\text{MSE} = \\frac{1}{n} \\sum_{i=1}^n (y_i - \\hat{y}_i)^2\n",
    "$$\n"
   ]
  },
  {
   "cell_type": "code",
   "execution_count": null,
   "id": "590adf26",
   "metadata": {},
   "outputs": [],
   "source": [
    "print(\"Error cuadrático medio - Modelo grado 2:\", mean_squared_error(y_test, y_pred_test2))\n",
    "print(\"Error cuadrático medio - Modelo grado 20:\", mean_squared_error(y_test, y_pred_test20))\n"
   ]
  }
 ],
 "metadata": {},
 "nbformat": 4,
 "nbformat_minor": 5
}