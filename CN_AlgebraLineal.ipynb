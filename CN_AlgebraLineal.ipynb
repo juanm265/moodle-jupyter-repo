{
 "cells": [
  {
   "cell_type": "code",
   "execution_count": null,
   "metadata": {},
   "outputs": [],
   "source": []
  },
  {
   "cell_type": "markdown",
   "metadata": {},
   "source": [
    "# Algebra Lineal\n"
   ]
  },
  {
   "cell_type": "code",
   "execution_count": 1,
   "metadata": {},
   "outputs": [],
   "source": [
    "import os\n",
    "import sys\n",
    "import glob\n",
    "import math\n",
    "\n",
    "import numpy as np\n",
    "import pandas as pd\n",
    "from scipy import linalg as la\n",
    "\n",
    "import matplotlib.pyplot as plt\n",
    "import matplotlib.patches as patch\n",
    "%matplotlib inline"
   ]
  },
  {
   "cell_type": "code",
   "execution_count": 2,
   "metadata": {},
   "outputs": [],
   "source": [
    "# Valores iniciales\n",
    "%matplotlib inline\n",
    "%precision 4\n",
    "plt.style.use('ggplot')\n",
    "np.set_printoptions(suppress=True)"
   ]
  },
  {
   "cell_type": "code",
   "execution_count": 3,
   "metadata": {},
   "outputs": [],
   "source": [
    "# Valores iniciales"
   ]
  },
  {
   "cell_type": "markdown",
   "metadata": {
    "slideshow": {
     "slide_type": "slide"
    }
   },
   "source": [
    "## Producto Interno"
   ]
  },
  {
   "cell_type": "markdown",
   "metadata": {},
   "source": [
    "Introducimos la idea de un producto interno, examinamos la estructura adicional que impone en un espacio vectorial y observamos algunas aplicaciones comunes. Un producto interno es una operación sobre dos vectores en un espacio vectorial que se define de tal manera que satisface ciertos requisitos algebraicos. Para comenzar, nos centraremos solo en un producto interno específico definido para vectores en $\\mathbb{R}^n$. \n",
    "\n",
    "Para los vectores $\\mathbf{a}$ y $\\mathbf{b}$ en $\\mathbb{R}^n$, el producto interno se escribe como $\\mathbf{a} \\cdot \\mathbf{b}$ y se define de la siguiente manera:\n",
    "\n",
    "$$\n",
    "\\begin{equation}\n",
    "\\mathbf{a}\\cdot \\mathbf{b} = \\sum^n a_ib_i = a_1b_1 + a_2b_2 + ... + a_nb_n\n",
    "\\end{equation}\n",
    "$$\n",
    "\n",
    "El producto $\\mathbf{<.>}$ interno proporciona una forma de medir distancias y ángulos en $\\mathbb{R}^n$. \n",
    "\n",
    "La magnitud de un vector $\\mathbf{b}$, escrita como $\\|\\mathbf{b}\\|$, se define como \n",
    "$$\n",
    "||\\mathbf{b}||=\\left(\\mathbf{b}\\cdot\\mathbf{b}\\right)^{1/n}=\\left(\\sum^{n}b_i{^2}\\right)^{1/n}.\n",
    "$$\n",
    "\n",
    "El angulo $\\theta $ formado por dos vectores  $\\mathbf{a}$ y $\\mathbf{b}$ es tal que:\n",
    "$$\n",
    "\\begin{equation}\n",
    "\\cos{\\theta} = \\frac{\\mathbf{a}\\cdot \\mathbf{b}}{||\\mathbf{a}||||\\mathbf{b}||}\n",
    "\\end{equation}\n",
    "$$\n",
    "Vale la pena notar el caso especial que surge cuando el ángulo entre $\\mathbf{a}$ y $\\mathbf{b}$ es un ángulo recto. En este caso, dado que $\\cos{ \\theta}$ es cero, el producto punto $\\mathbf{a} \\cdot \\mathbf{b}$ también es cero. Cuando $ \\mathbf{a}\\cdot \\mathbf{b} = 0 $, se dice que los vectores $\\mathbf{a}$ y $\\mathbf{b}$ son ortogonales. En las secciones siguientes aprenderemos la importancia de la ortogonalidad y cómo se puede usar para simplificar ciertos cálculos."
   ]
  },
  {
   "cell_type": "markdown",
   "metadata": {},
   "source": [
    "\n",
    "$$\n",
    "\\mathbf{a}\\odot\\mathbf{b} =\\begin{equation}\n",
    "    \\left[ \\begin{array}{r} a_i \\\\ ... \\\\ a_i \\end{array}\\right] \n",
    "    \\odot\\\n",
    "    \\left[ \\begin{array}{r} b_1 \\\\ ... \\\\ b_n  \\end{array}\\right]\n",
    "    =\n",
    "     \\left[ \\begin{array}{r} a_1b_1 \\\\ ... \\\\ a_nb_n  \\end{array}\\right]\n",
    "\\end{equation}\n",
    "$$\n"
   ]
  },
  {
   "cell_type": "markdown",
   "metadata": {
    "slideshow": {
     "slide_type": "slide"
    }
   },
   "source": [
    "### "
   ]
  },
  {
   "cell_type": "markdown",
   "metadata": {
    "slideshow": {
     "slide_type": "slide"
    }
   },
   "source": [
    "Ejemplos\n",
    "\n",
    "Sean $\\mathbf{a}$ y $\\mathbf{b}$ vectores en $\\mathbb{R}^3$.\n",
    "\n",
    "$$\n",
    "\\begin{equation}\n",
    "\\mathbf{a} = \\left[ \\begin{array}{r} 3 \\\\ 5 \\\\ 7 \\end{array}\\right] \\hspace{1cm} \n",
    "\\mathbf{b} = \\left[ \\begin{array}{r} 1 \\\\ 2 \\\\ 5 \\end{array}\\right] \n",
    "\\end{equation}\n",
    "$$"
   ]
  },
  {
   "cell_type": "code",
   "execution_count": 4,
   "metadata": {
    "scrolled": true
   },
   "outputs": [
    {
     "name": "stdout",
     "output_type": "stream",
     "text": [
      "[3 5 7]\n"
     ]
    }
   ],
   "source": [
    "a = np.array([3, 5, 7])\n",
    "print(a)"
   ]
  },
  {
   "cell_type": "code",
   "execution_count": 5,
   "metadata": {},
   "outputs": [
    {
     "name": "stdout",
     "output_type": "stream",
     "text": [
      "[1 2 5]\n"
     ]
    }
   ],
   "source": [
    "b = np.array([1, 2, 5])\n",
    "print(b)"
   ]
  },
  {
   "cell_type": "markdown",
   "metadata": {
    "slideshow": {
     "slide_type": "slide"
    }
   },
   "source": [
    "Entonces $\\mathbf{a}\\cdot\\mathbf{b} = (3)(1) + (5)(2) + (7)(5) = 48$ "
   ]
  },
  {
   "cell_type": "markdown",
   "metadata": {},
   "source": [
    "Para realizar dicha operación hay varias formas."
   ]
  },
  {
   "cell_type": "code",
   "execution_count": 6,
   "metadata": {},
   "outputs": [
    {
     "name": "stdout",
     "output_type": "stream",
     "text": [
      "48\n"
     ]
    }
   ],
   "source": [
    "dot_product = a.transpose()@b\n",
    "print(dot_product)"
   ]
  },
  {
   "cell_type": "code",
   "execution_count": 7,
   "metadata": {
    "scrolled": true
   },
   "outputs": [
    {
     "ename": "SyntaxError",
     "evalue": "invalid syntax (1646561253.py, line 1)",
     "output_type": "error",
     "traceback": [
      "\u001b[1;36m  Cell \u001b[1;32mIn[7], line 1\u001b[1;36m\u001b[0m\n\u001b[1;33m    Otras forma son las siguientes: a.dot(b), b.dot(a) y  a@b$ :\u001b[0m\n\u001b[1;37m          ^\u001b[0m\n\u001b[1;31mSyntaxError\u001b[0m\u001b[1;31m:\u001b[0m invalid syntax\n"
     ]
    }
   ],
   "source": [
    "Otras forma son las siguientes: a.dot(b), b.dot(a) y  a@b$ :"
   ]
  },
  {
   "cell_type": "code",
   "execution_count": 8,
   "metadata": {},
   "outputs": [
    {
     "data": {
      "text/plain": [
       "48"
      ]
     },
     "execution_count": 8,
     "metadata": {},
     "output_type": "execute_result"
    }
   ],
   "source": [
    "a.dot(b)"
   ]
  },
  {
   "cell_type": "code",
   "execution_count": 9,
   "metadata": {},
   "outputs": [
    {
     "data": {
      "text/plain": [
       "48"
      ]
     },
     "execution_count": 9,
     "metadata": {},
     "output_type": "execute_result"
    }
   ],
   "source": [
    "b.dot(a)"
   ]
  },
  {
   "cell_type": "code",
   "execution_count": 40,
   "metadata": {},
   "outputs": [
    {
     "data": {
      "text/plain": [
       "48"
      ]
     },
     "execution_count": 40,
     "metadata": {},
     "output_type": "execute_result"
    }
   ],
   "source": [
    "a@b"
   ]
  },
  {
   "cell_type": "markdown",
   "metadata": {},
   "source": [
    "Para el caso del producto por componentes, o de Hadamark $\\mathbf{a}\\odot\\mathbf{b}$"
   ]
  },
  {
   "cell_type": "markdown",
   "metadata": {
    "slideshow": {
     "slide_type": "slide"
    }
   },
   "source": [
    "$$\n",
    "\\mathbf{a}\\odot\\mathbf{b} =\\begin{equation}\n",
    "    \\left[ \\begin{array}{r} 3 \\\\ 5 \\\\ 7 \\end{array}\\right] \n",
    "    \\odot\\\n",
    "    \\left[ \\begin{array}{r} 1 \\\\ 2 \\\\ 5  \\end{array}\\right]\n",
    "    =\n",
    "     \\left[ \\begin{array}{r} 3 \\\\ 10 \\\\ 35  \\end{array}\\right]\n",
    "\\end{equation}\n",
    "$$"
   ]
  },
  {
   "cell_type": "markdown",
   "metadata": {},
   "source": [
    "Esta operación se puede realizar como:\n"
   ]
  },
  {
   "cell_type": "code",
   "execution_count": 41,
   "metadata": {},
   "outputs": [
    {
     "name": "stdout",
     "output_type": "stream",
     "text": [
      "[ 3 10 35]\n"
     ]
    }
   ],
   "source": [
    "ProdHad=a*b\n",
    "print(ProdHad)"
   ]
  },
  {
   "cell_type": "markdown",
   "metadata": {},
   "source": [
    "Para la magnitud se puede realizar como:"
   ]
  },
  {
   "cell_type": "code",
   "execution_count": 42,
   "metadata": {},
   "outputs": [
    {
     "name": "stdout",
     "output_type": "stream",
     "text": [
      "5.477225575051661\n"
     ]
    }
   ],
   "source": [
    "dot_product = b.transpose()@b\n",
    "Magnitud = math.sqrt(dot_product)\n",
    "print(Magnitud)"
   ]
  },
  {
   "cell_type": "markdown",
   "metadata": {},
   "source": [
    "Y tambien como "
   ]
  },
  {
   "cell_type": "code",
   "execution_count": 85,
   "metadata": {},
   "outputs": [
    {
     "name": "stdout",
     "output_type": "stream",
     "text": [
      "5.477225575051661\n"
     ]
    }
   ],
   "source": [
    "Magnitud=la.norm(b)\n",
    "print(Magnitud)"
   ]
  },
  {
   "cell_type": "markdown",
   "metadata": {},
   "source": [
    "### Ejemplos de sumas y multimplicaciones"
   ]
  },
  {
   "cell_type": "markdown",
   "metadata": {},
   "source": [
    "Sean $\\mathbf{A}$ y $\\mathbf{B}$ matrices en $\\mathbb{R}^3$.  Entonces su suma se ve como:"
   ]
  },
  {
   "cell_type": "markdown",
   "metadata": {
    "slideshow": {
     "slide_type": "slide"
    }
   },
   "source": [
    "$$\n",
    "\\begin{equation}\n",
    "    \\mathbf{A} = \\left[ \\begin{array}{rrr} 1 & 2 & 3 \\\\ 4 & 5 & 6 \\\\ 7 & 8 & 9 \\end{array}\\right] \\hspace{1cm} \n",
    "    \\mathbf{B} = \\left[ \\begin{array}{rrr} 3 & 4 & 1 \\\\ 4 & 5 & 6 \\\\ 1 & 2 & 0 \\end{array}\\right] \\hspace{1cm}\n",
    "    \\mathbf{A+B} =  \\left[ \\begin{array}{rrr} 4 & 6 & 4 \\\\ 8 & 10 & 12 \\\\ 81 & 10 & 9 \\end{array}\\right] \n",
    "\\end{equation}\n",
    "$$"
   ]
  },
  {
   "cell_type": "code",
   "execution_count": 46,
   "metadata": {},
   "outputs": [
    {
     "data": {
      "text/plain": [
       "array([[1, 2, 3],\n",
       "       [4, 5, 6],\n",
       "       [7, 8, 9]])"
      ]
     },
     "execution_count": 46,
     "metadata": {},
     "output_type": "execute_result"
    }
   ],
   "source": [
    "A = np.array([[1,2, 3],[4,5,6], [7,8,9]])\n",
    "A"
   ]
  },
  {
   "cell_type": "code",
   "execution_count": 47,
   "metadata": {},
   "outputs": [
    {
     "data": {
      "text/plain": [
       "array([[3, 4, 1],\n",
       "       [4, 5, 6],\n",
       "       [1, 2, 0]])"
      ]
     },
     "execution_count": 47,
     "metadata": {},
     "output_type": "execute_result"
    }
   ],
   "source": [
    "B = np.array([[3,4, 1],[4,5,6], [1,2,0]])\n",
    "B"
   ]
  },
  {
   "cell_type": "code",
   "execution_count": 48,
   "metadata": {},
   "outputs": [
    {
     "name": "stdout",
     "output_type": "stream",
     "text": [
      "[[ 4  6  4]\n",
      " [ 8 10 12]\n",
      " [ 8 10  9]]\n"
     ]
    }
   ],
   "source": [
    "print(A+B)"
   ]
  },
  {
   "cell_type": "markdown",
   "metadata": {},
   "source": [
    "Si además definimos c y d  $\\mathbf{c}$ y $\\mathbf{d}$ vectores en $\\mathbb{R}^3$.\n",
    "\n",
    "$$\n",
    "\\begin{equation}\n",
    "\\mathbf{c} = \\left[ \\begin{array}{l} 1 \\\\ 2 \\\\ 3 \\end{array}\\right] \\hspace{1cm} \n",
    "\\mathbf{d} = \\left[ \\begin{array}{l} 3 \\\\ 2 \\\\ 1 \\end{array}\\right] \n",
    "\\end{equation}\n",
    "$$"
   ]
  },
  {
   "cell_type": "code",
   "execution_count": 64,
   "metadata": {},
   "outputs": [
    {
     "name": "stdout",
     "output_type": "stream",
     "text": [
      "[[1]\n",
      " [2]\n",
      " [3]]\n"
     ]
    }
   ],
   "source": [
    "c = np.array([[1], [2], [3]])\n",
    "print(c)"
   ]
  },
  {
   "cell_type": "code",
   "execution_count": 65,
   "metadata": {},
   "outputs": [
    {
     "name": "stdout",
     "output_type": "stream",
     "text": [
      "[[3]\n",
      " [2]\n",
      " [1]]\n"
     ]
    }
   ],
   "source": [
    "d = np.array([[3], [2], [1]])\n",
    "print(d)"
   ]
  },
  {
   "cell_type": "code",
   "execution_count": 66,
   "metadata": {},
   "outputs": [
    {
     "data": {
      "text/plain": [
       "array([[10]])"
      ]
     },
     "execution_count": 66,
     "metadata": {},
     "output_type": "execute_result"
    }
   ],
   "source": [
    "c.transpose()@d"
   ]
  },
  {
   "cell_type": "code",
   "execution_count": 67,
   "metadata": {},
   "outputs": [
    {
     "data": {
      "text/plain": [
       "array([[3, 2, 1],\n",
       "       [6, 4, 2],\n",
       "       [9, 6, 3]])"
      ]
     },
     "execution_count": 67,
     "metadata": {},
     "output_type": "execute_result"
    }
   ],
   "source": [
    "c*d.transpose()"
   ]
  },
  {
   "cell_type": "code",
   "execution_count": 68,
   "metadata": {},
   "outputs": [
    {
     "data": {
      "text/plain": [
       "array([[3],\n",
       "       [4],\n",
       "       [3]])"
      ]
     },
     "execution_count": 68,
     "metadata": {},
     "output_type": "execute_result"
    }
   ],
   "source": [
    "c*d"
   ]
  },
  {
   "cell_type": "markdown",
   "metadata": {
    "slideshow": {
     "slide_type": "slide"
    }
   },
   "source": [
    "Este es exactamente el tipo de cálculo que se realiza en las multiplicaciones de matrices. De hecho, es posible ver los productos de matrices como colecciones de productos internos entre las filas y columnas de las dos matrices. Supongamos, por ejemplo, que tenemos el siguiente producto de matrices con $\\mathbf{u}$ como la segunda fila de $\\mathbf{A}$ y $\\mathbf{v}$ como la tercera columna de $\\mathbf{B}$.\n",
    "\n",
    "$$\n",
    "\\begin{equation}\n",
    "\\mathbf{A} = \\left[ \\begin{array}{rrrr} 1 & 1 & 0 & 2 \\\\ 2 & -1 & 2 & 3 \\\\ 3 & -1 & 2 & 1 \\\\ -2 & 0 & 0 & 1 \\end{array}\\right] \\hspace{1cm} \n",
    "\\mathbf{B}= \\left[ \\begin{array}{rrr} 1 & 1 & 1 \\\\ 4 & 1 & 4 \\\\ 0 & 1 & 5 \\\\ 1 & 1 & 0 \\end{array}\\right] \n",
    "\\hspace{1cm}\n",
    "\\mathbf{AB}=  \\left[ \\begin{array}{rrrr} 7 & 4 & 5 \\\\ 1 & 6 & 8 \\\\ 0 & 5 & 9 \\\\ -1 & -1 & -2 \\end{array}\\right] \n",
    "\\end{equation}\n",
    "$$\n",
    "\n",
    "Vemos que $(AB)_{23} = \\mathbf{u} \\cdot \\mathbf{v}$, es el producto punto de la segunda fila de $A$ con la tercera columna de $B$. En general, la entrada $(AB)_{ij}$ será el producto punto de la $i$-ésima fila de $A$ con la $j$-ésima columna de $B$.\n",
    "\n",
    "Aprovechando esta conexión, también podríamos escribir la definición del producto interno viendo los vectores como matrices de $n \\times 1$ y haciendo uso de las transposiciones de matrices.\n",
    "\n",
    "$$\n",
    "\\begin{equation}\n",
    "\\mathbf{u}\\cdot \\mathbf{v} = \\mathbf{u}^T\\mathbf{v}\n",
    "\\end{equation}\n",
    "$$\n",
    "\n",
    "Dado que $\\mathbf{u}$ es una matriz de $n \\times 1$, $\\mathbf{u}^T$ será una matriz de $1 \\times n$, y $\\mathbf{u}^T\\mathbf{v}$ será una matriz de $1 \\times 1$. En otras palabras, $\\mathbf{u}^T\\mathbf{v}$ será un escalar. Si tomamos esta perspectiva, podremos calcular productos internos de la misma manera que calcularíamos productos de matrices utilizando NumPy."
   ]
  },
  {
   "cell_type": "code",
   "execution_count": 52,
   "metadata": {},
   "outputs": [
    {
     "data": {
      "text/plain": [
       "array([[ 1,  1,  0,  2],\n",
       "       [ 2, -1,  2,  3],\n",
       "       [ 3, -1,  2,  1],\n",
       "       [-2,  0,  0,  1]])"
      ]
     },
     "execution_count": 52,
     "metadata": {},
     "output_type": "execute_result"
    }
   ],
   "source": [
    "A = np.array([[1,1,0,2], [2,-1,2,3], [3,-1,2,1], [-2,0,0,1]])\n",
    "A"
   ]
  },
  {
   "cell_type": "code",
   "execution_count": 54,
   "metadata": {},
   "outputs": [
    {
     "data": {
      "text/plain": [
       "array([[1, 1, 1],\n",
       "       [4, 1, 4],\n",
       "       [0, 1, 5],\n",
       "       [1, 1, 0]])"
      ]
     },
     "execution_count": 54,
     "metadata": {},
     "output_type": "execute_result"
    }
   ],
   "source": [
    "B = np.array([[1,1,1], [4,1,4], [0,1,5], [1,1,0]])\n",
    "B"
   ]
  },
  {
   "cell_type": "code",
   "execution_count": 55,
   "metadata": {},
   "outputs": [
    {
     "name": "stdout",
     "output_type": "stream",
     "text": [
      "[[ 7  4  5]\n",
      " [ 1  6  8]\n",
      " [ 0  5  9]\n",
      " [-1 -1 -2]]\n"
     ]
    }
   ],
   "source": [
    "print(A@B)"
   ]
  },
  {
   "cell_type": "code",
   "execution_count": 70,
   "metadata": {},
   "outputs": [
    {
     "name": "stdout",
     "output_type": "stream",
     "text": [
      "[[8]]\n"
     ]
    }
   ],
   "source": [
    "u = np.array([[2],[-1],[2],[3]])\n",
    "v = np.array([[1],[4],[5],[0]])\n",
    "\n",
    "dot_product = u.transpose()@v\n",
    "print(dot_product)"
   ]
  },
  {
   "cell_type": "markdown",
   "metadata": {},
   "source": [
    "Calcular un producto punto con esta fórmula es correcto y no notaríamos ninguna diferencia al hacer el cálculo en papel. Sin embargo, hay un pequeño inconveniente técnico al usar operaciones de NumPy para aplicar esta fórmula. El resultado producido por el código ($\\texttt{DotProduct}$) no es un verdadero escalar, sino que en realidad es otro objeto de matriz NumPy de tamaño $1 \\times 1$. Esto puede tener consecuencias no deseadas a medida que incluimos este código en cálculos más grandes. Podemos tener esto en cuenta y simplemente referenciamos el valor en la matriz $1 \\times 1$ con índices si es necesario"
   ]
  },
  {
   "cell_type": "code",
   "execution_count": 71,
   "metadata": {
    "slideshow": {
     "slide_type": "subslide"
    }
   },
   "outputs": [
    {
     "name": "stdout",
     "output_type": "stream",
     "text": [
      "8\n"
     ]
    }
   ],
   "source": [
    "print(dot_product[0,0])"
   ]
  },
  {
   "cell_type": "code",
   "execution_count": 6,
   "metadata": {},
   "outputs": [],
   "source": [
    "def DotProduct(U,V):\n",
    "    # =============================================================================\n",
    "    # U and V are NumPy arrays that represents vectors of dimension n x 1.\n",
    "    # DotProduct returns the dot product of U and V\n",
    "    # =============================================================================\n",
    "\n",
    "    # Check shapes of U and V\n",
    "    if (U.shape[1] != 1 or V.shape[1] != 1):\n",
    "        print(\"Dot product only accepts column vectors.\")\n",
    "        return\n",
    "    # Check shape of V\n",
    "    if (U.shape[0] != V.shape[0]):\n",
    "        print(\"Dot product only accepts column vectors of equal length.\")\n",
    "        return\n",
    "\n",
    "    n = U.shape[0]\n",
    "    product = 0\n",
    "    \n",
    "    for i in range(n):\n",
    "        product += U[i,0]*V[i,0]\n",
    "\n",
    "    return product"
   ]
  },
  {
   "cell_type": "markdown",
   "metadata": {},
   "source": [
    "Ahora podemos llamar a la función y recibir un escalar como resultado."
   ]
  },
  {
   "cell_type": "code",
   "execution_count": 7,
   "metadata": {
    "scrolled": true,
    "tags": [
     "hide-input"
    ]
   },
   "outputs": [
    {
     "data": {
      "image/png": "[encoded data removed]",
      "text/plain": [
       "<Figure size 640x480 with 1 Axes>"
      ]
     },
     "metadata": {},
     "output_type": "display_data"
    }
   ],
   "source": [
    "fig, ax = plt.subplots()\n",
    "options = {\"head_width\":0.1, \"head_length\":0.2, \"length_includes_head\":True}\n",
    "\n",
    "ax.arrow(0,0,2,3,fc='b',ec='b',**options)\n",
    "\n",
    "ax.text(1,2,'$U$')\n",
    "\n",
    "ax.set_xlim(0,5)\n",
    "ax.set_xlabel('$x_1$')\n",
    "ax.set_ylim(0,5)\n",
    "ax.set_ylabel('$x_2$')\n",
    "ax.set_aspect('equal')\n",
    "ax.grid(True,ls=':')"
   ]
  },
  {
   "cell_type": "code",
   "execution_count": 8,
   "metadata": {},
   "outputs": [
    {
     "name": "stdout",
     "output_type": "stream",
     "text": [
      "8\n"
     ]
    }
   ],
   "source": [
    "print(DotProduct(u,v))"
   ]
  },
  {
   "cell_type": "markdown",
   "metadata": {},
   "source": [
    "## Interpretaciones geométricas\n",
    "\n",
    "Nuevamente, es más fácil visualizar estas medidas en $\\mathbb{R}^2$. La magnitud de un vector $\\mathbf{u}$, escrita como $\\|\\mathbf{u}\\|$, se define como $\\|\\mathbf{u}\\| = \\left(\\mathbf{u}\\cdot \\mathbf{u}\\right)^{1/2}$. En $\\mathbb{R}^2$ es fácil ver que esta definición corresponde al Teorema de Pitágoras.\n",
    "\n"
   ]
  },
  {
   "cell_type": "markdown",
   "metadata": {
    "slideshow": {
     "slide_type": "fragment"
    }
   },
   "source": [
    "$$\n",
    "\\begin{equation}\n",
    "\\mathbf{u} = \\left[ \\begin{array}{r} 2 \\\\ 3 \\end{array}\\right] \\hspace{2cm} \n",
    "||\\mathbf{u}|| = \\sqrt{(2)(2) + (3)(3)} = \\sqrt{13}\n",
    "\\end{equation}\n",
    "$$\n",
    " \n",
    "Calcular la magnitud de un vector es lo suficientemente común como para que sea útil escribir una función para realizarlo. Lo dejaremos como un ejercicio en esta sección e incluiremos la función $\\texttt{Magnitude}$ e para su uso en secciones futuras."
   ]
  },
  {
   "cell_type": "code",
   "execution_count": 9,
   "metadata": {},
   "outputs": [],
   "source": [
    "u = np.array([[2],[3]])\n",
    "dot_product = u.transpose()@u"
   ]
  },
  {
   "cell_type": "code",
   "execution_count": 10,
   "metadata": {},
   "outputs": [
    {
     "name": "stdout",
     "output_type": "stream",
     "text": [
      "13\n"
     ]
    }
   ],
   "source": [
    "print(dot_product[0,0])"
   ]
  },
  {
   "cell_type": "code",
   "execution_count": 11,
   "metadata": {},
   "outputs": [
    {
     "name": "stdout",
     "output_type": "stream",
     "text": [
      "3.605551275463989\n"
     ]
    }
   ],
   "source": [
    "Magnitud = math.sqrt(dot_product[0,0])\n",
    "print(Magnitud)"
   ]
  },
  {
   "cell_type": "markdown",
   "metadata": {},
   "source": [
    "A menudo es útil trabajar con vectores cuya magnitud es igual a uno. Dichos vectores se llaman **vectores unitarios**. Podemos construir un vector unitario en la misma dirección que un vector $\\mathbf{u}$ multiplicando $\\mathbf{u}$ por el recíproco de su magnitud. Etiquetaremos este vector unitario como $\\mathbf{w}$."
   ]
  },
  {
   "cell_type": "code",
   "execution_count": 12,
   "metadata": {
    "tags": [
     "hide-input"
    ]
   },
   "outputs": [
    {
     "data": {
      "image/png": "[encoded data removed]",
      "text/plain": [
       "<Figure size 640x480 with 1 Axes>"
      ]
     },
     "metadata": {},
     "output_type": "display_data"
    }
   ],
   "source": [
    "fig, ax = plt.subplots()\n",
    "options = {\"head_width\":0.1, \"head_length\":0.2, \"length_includes_head\":True}\n",
    "\n",
    "ax.arrow(0,0,2,3,fc='b',ec='b',**options)\n",
    "ax.arrow(0,0,0.555,0.832,fc='b',ec='r',**options)\n",
    "\n",
    "ax.text(1,2,'$u$')\n",
    "ax.text(0.5,0.3,'$w$')\n",
    "\n",
    "\n",
    "ax.set_xlim(0,5)\n",
    "ax.set_xlabel('$x_1$')\n",
    "ax.set_ylim(0,5)\n",
    "ax.set_ylabel('$x_2$')\n",
    "ax.set_aspect('equal')\n",
    "ax.grid(True,ls=':')"
   ]
  },
  {
   "cell_type": "markdown",
   "metadata": {},
   "source": [
    "$$\n",
    "\\begin{equation}\n",
    "\\mathbf{w} = \\frac{1}{\\sqrt{13}} \\left[ \\begin{array}{r} 2 \\\\ 3 \\end{array}\\right]\n",
    "\\end{equation}\n",
    "$$"
   ]
  },
  {
   "cell_type": "markdown",
   "metadata": {},
   "source": [
    "También podemos usar la definición de magnitud para definir la distancia entre dos vectores $\\mathbf{u}$ y $\\mathbf{v}$ como $||\\mathbf{u-v}||$, la magnitud de la diferencia. Si imaginamos los vectores como flechas, $\\mathbf{u-v}$ va desde la punta de $\\mathbf{v}$ hasta la punta de $\\mathbf{u}$. Esto es consistente con nuestra imagen de flechas de la suma de vectores, ya que $\\mathbf{v + (u-v) = u}$"
   ]
  },
  {
   "cell_type": "code",
   "execution_count": 13,
   "metadata": {
    "tags": [
     "hide-input"
    ]
   },
   "outputs": [
    {
     "data": {
      "image/png": "[encoded data removed]",
      "text/plain": [
       "<Figure size 640x480 with 1 Axes>"
      ]
     },
     "metadata": {},
     "output_type": "display_data"
    }
   ],
   "source": [
    "fig, ax = plt.subplots()\n",
    "options = {\"head_width\":0.1, \"head_length\":0.2, \"length_includes_head\":True}\n",
    "\n",
    "ax.arrow(0,0,2,3,fc='b',ec='b',**options)\n",
    "ax.arrow(0,0,4,2,fc='b',ec='b',**options)\n",
    "ax.arrow(4,2,-2,1,fc='b',ec='r',**options)\n",
    "\n",
    "ax.text(1,2,'$u$')\n",
    "ax.text(3,1,'$v$')\n",
    "ax.text(3,2.8,'$u-v$')\n",
    "\n",
    "ax.set_xlim(0,5)\n",
    "ax.set_xlabel('$x_1$')\n",
    "ax.set_ylim(0,5)\n",
    "ax.set_ylabel('$x_2$')\n",
    "ax.set_aspect('equal')\n",
    "ax.grid(True,ls=':')"
   ]
  },
  {
   "cell_type": "code",
   "execution_count": 14,
   "metadata": {
    "tags": [
     "hide-input"
    ]
   },
   "outputs": [
    {
     "data": {
      "image/png": "[encoded data removed]",
      "text/plain": [
       "<Figure size 640x480 with 1 Axes>"
      ]
     },
     "metadata": {},
     "output_type": "display_data"
    }
   ],
   "source": [
    "fig, ax = plt.subplots()\n",
    "options = {\"head_width\":0.1, \"head_length\":0.2, \"length_includes_head\":True}\n",
    "\n",
    "ax.arrow(0,0,2,3,fc='b',ec='b',**options)\n",
    "ax.arrow(0,0,4,2,fc='b',ec='b',**options)\n",
    "\n",
    "ax.text(1,2,'$u$')\n",
    "ax.text(3,1,'$v$')\n",
    "ax.text(1,1,'$\\\\theta$')\n",
    "\n",
    "ax.set_xlim(0,5)\n",
    "ax.set_xlabel('$x_1$')\n",
    "ax.set_ylim(0,5)\n",
    "ax.set_ylabel('$x_2$')\n",
    "ax.set_aspect('equal')\n",
    "ax.grid(True,ls=':')"
   ]
  },
  {
   "cell_type": "markdown",
   "metadata": {},
   "source": [
    "### Propiedades algebraicas\n",
    "\n",
    "Si $\\mathbf{u}$, $\\mathbf{v}$ y $\\mathbf{w}$ son vectores en $\\mathbb{R}^n$, y $k$ es un escalar, entonces las siguientes afirmaciones que involucran el producto punto son verdaderas.\n",
    "\n",
    "1. $\\mathbf{u} \\cdot \\mathbf{v} = \\mathbf{v} \\cdot \\mathbf{u}$\n",
    "2. $\\mathbf{u} \\cdot (\\mathbf{v + w}) = \\mathbf{u} \\cdot \\mathbf{v + w} \\cdot \\mathbf{w}$\n",
    "3. $(k\\mathbf{u}) \\cdot \\mathbf{v} = k(\\mathbf{u}\\cdot \\mathbf{v})$\n",
    "4. $\\mathbf{u} \\cdot \\mathbf{u}\\ge 0$\n",
    "\n",
    "Estas propiedades algebraicas no son difíciles de probar usando la definición del producto punto, pero son importantes para realizar cálculos con vectores no especificados. Más importante aún, son estas cuatro propiedades las que hacen que el producto punto sea un **producto interno**.\n"
   ]
  },
  {
   "cell_type": "markdown",
   "metadata": {},
   "source": [
    "$$\n",
    "\\begin{equation}\n",
    "\\cos{\\theta} = \\frac{\\mathbf{u}\\cdot \\mathbf{v}}{||\\mathbf{u}||||\\mathbf{v}||}\n",
    "\\end{equation}\n",
    "$$\n",
    "Vale la pena notar el caso especial que surge cuando el ángulo entre $\\mathbf{u}$ y $\\mathbf{v}$ es un ángulo recto. En este caso, dado que $\\cos{ \\theta}$ es cero, el producto punto $\\mathbf{u} \\cdot \\mathbf{v}$ también es cero. Cuando $ \\mathbf{u}\\cdot \\mathbf{v} = 0 $, se dice que los vectores $\\mathbf{u}$ y $\\mathbf{v}$ son ortogonales. En las secciones siguientes aprenderemos la importancia de la ortogonalidad y cómo se puede usar para simplificar ciertos cálculos."
   ]
  },
  {
   "cell_type": "markdown",
   "metadata": {
    "slideshow": {
     "slide_type": "slide"
    }
   },
   "source": [
    "Aprovechando esta conexión, también podríamos escribir la definición del producto interno viendo los vectores como matrices de $n \\times 1$ y haciendo uso de las transposiciones de matrices.\n",
    "\n",
    "$$\n",
    "\\begin{equation}\n",
    "\\mathbf{u}\\cdot \\mathbf{v} = \\mathbf{u}^T\\mathbf{v}\n",
    "\\end{equation}\n",
    "$$\n",
    "\n",
    "Dado que $\\mathbf{u}$ es una matriz de $n \\times 1$, $\\mathbf{u}^T$ será una matriz de $1 \\times n$, y $\\mathbf{u}^T\\mathbf{v}$ será una matriz de $1 \\times 1$. En otras palabras, $\\mathbf{u}^T\\mathbf{v}$ será un escalar. Si tomamos esta perspectiva, podremos calcular productos internos de la misma manera que calcularíamos productos de matrices utilizando NumPy."
   ]
  },
  {
   "cell_type": "code",
   "execution_count": 85,
   "metadata": {},
   "outputs": [
    {
     "ename": "NameError",
     "evalue": "name 'plot_vectors' is not defined",
     "output_type": "error",
     "traceback": [
      "\u001b[1;31m---------------------------------------------------------------------------\u001b[0m",
      "\u001b[1;31mNameError\u001b[0m                                 Traceback (most recent call last)",
      "Cell \u001b[1;32mIn[85], line 2\u001b[0m\n\u001b[0;32m      1\u001b[0m plt\u001b[38;5;241m.\u001b[39mfigure(figsize\u001b[38;5;241m=\u001b[39m(\u001b[38;5;241m8\u001b[39m,\u001b[38;5;241m8\u001b[39m))\n\u001b[1;32m----> 2\u001b[0m plot_vectors([a1, a2])\n\u001b[0;32m      3\u001b[0m v1 \u001b[38;5;241m=\u001b[39m np\u001b[38;5;241m.\u001b[39marray([\u001b[38;5;241m2\u001b[39m,\u001b[38;5;241m3\u001b[39m])\n\u001b[0;32m      4\u001b[0m plot_vectors([v1,v2])\n",
      "\u001b[1;31mNameError\u001b[0m: name 'plot_vectors' is not defined"
     ]
    },
    {
     "data": {
      "text/plain": [
       "<Figure size 800x800 with 0 Axes>"
      ]
     },
     "metadata": {},
     "output_type": "display_data"
    }
   ],
   "source": [
    "plt.figure(figsize=(8,8))\n",
    "plot_vectors([a1, a2])\n",
    "v1 = np.array([2,3])\n",
    "plot_vectors([v1,v2])\n",
    "plt.text(2,3,\"v1 =(2,3)\",fontsize=16)\n",
    "plt.text(6,5,\"Av1 = \", fontsize=16)\n",
    "plt.text(v2[0],v2[1],\"(7,5)\",fontsize=16)\n",
    "print(v2[1])"
   ]
  },
  {
   "cell_type": "markdown",
   "metadata": {},
   "source": [
    "## Resolución de Sistemas de Ecuaciones"
   ]
  },
  {
   "cell_type": "markdown",
   "metadata": {},
   "source": [
    "Sea el sitema lineal\n",
    "$$\n",
    "\\begin{equation}\n",
    "    \\mathbf{X} \\mathbf{b} = \\mathbf{y}\n",
    "\\end{equation}\n",
    "$$"
   ]
  },
  {
   "cell_type": "code",
   "execution_count": 86,
   "metadata": {},
   "outputs": [
    {
     "data": {
      "text/plain": [
       "array([[ 2,  1,  1],\n",
       "       [ 4,  0,  1],\n",
       "       [-2,  2,  1]])"
      ]
     },
     "execution_count": 86,
     "metadata": {},
     "output_type": "execute_result"
    }
   ],
   "source": [
    "X= np.array([[2, 1,1],[4,0,1],[-2,2,1]])\n",
    "X"
   ]
  },
  {
   "cell_type": "code",
   "execution_count": 87,
   "metadata": {
    "scrolled": true
   },
   "outputs": [
    {
     "data": {
      "text/plain": [
       "array([ 1, -2,  7])"
      ]
     },
     "execution_count": 87,
     "metadata": {},
     "output_type": "execute_result"
    }
   ],
   "source": [
    "y = np.array([1,-2,7])\n",
    "y"
   ]
  },
  {
   "cell_type": "markdown",
   "metadata": {},
   "source": [
    "La solución se puede encontrar como:"
   ]
  },
  {
   "cell_type": "code",
   "execution_count": 95,
   "metadata": {},
   "outputs": [
    {
     "name": "stdout",
     "output_type": "stream",
     "text": [
      "[-1.5  0.   4. ]\n"
     ]
    }
   ],
   "source": [
    "b = la.solve(X,y)\n",
    "print(b)"
   ]
  },
  {
   "cell_type": "markdown",
   "metadata": {},
   "source": [
    "Otra forma $\\mathbf{InvX}*\\mathbf{y}$ (inversa de $\\mathbf{X}$ por $\\mathbf{y}$)"
   ]
  },
  {
   "cell_type": "code",
   "execution_count": 96,
   "metadata": {},
   "outputs": [
    {
     "name": "stdout",
     "output_type": "stream",
     "text": [
      "[[ 1.  -0.5 -0.5]\n",
      " [ 3.  -2.  -1. ]\n",
      " [-4.   3.   2. ]]\n"
     ]
    }
   ],
   "source": [
    "InvX=la.inv(X)\n",
    "print(InvX)"
   ]
  },
  {
   "cell_type": "code",
   "execution_count": 97,
   "metadata": {},
   "outputs": [
    {
     "name": "stdout",
     "output_type": "stream",
     "text": [
      "[-1.5  0.   4. ]\n"
     ]
    }
   ],
   "source": [
    "b1= InvX@y\n",
    "print(b1)"
   ]
  },
  {
   "cell_type": "markdown",
   "metadata": {},
   "source": [
    "## Descomposición en Valores Singulares\n",
    "\n",
    "Otra descomposición importante de matrices es la descomposición en valores singulares o SVD. Para cualquier matriz $m \\times n$ $A$, podemos escribir:\n",
    "$$\n",
    "\\begin{equation}\n",
    "     \\mathbf{A}=\\mathbf{UDV} \n",
    "\\end{equation}\n",
    "$$\n",
    "donde $\\mathbf{U}$ es una matriz unitaria (ortogonal en el caso real) de $m \\times m$, $\\mathbf{D}$ es una matriz rectangular y diagonal de $m \\times n$ con entradas diagonales $d_1,...,d_m$ todas no negativas. $\\mathbf{V}$ es una matriz unitaria (ortogonal) de $n \\times n$. SVD se utiliza en el análisis de componentes principales y en el cálculo de la pseudoinversa de Moore-Penrose.\n",
    "\n",
    "$$\n",
    "\\begin{equation}\n",
    "    \\mathbf{A} \\mathbf{x} = \\mathbf{b}\n",
    "\\end{equation}\n",
    "$$"
   ]
  },
  {
   "cell_type": "markdown",
   "metadata": {},
   "source": [
    "Con $\\mathbf{A}$ y $\\mathbf{b}$ como se muestran a continuaicón\n",
    "$$\n",
    "\\begin{equation}\n",
    "    \\mathbf{A} = \\left[ \\begin{array}{rrr} 8 &6 &4 &1 \\\\ 1 &4 &5 &1 \\\\ 8 &4 &1 &1 \\\\ -1 &4 &3 &6  \\end{array}\\right] \\hspace{1cm} \n",
    "    \\mathbf{b} = \\left[ \\begin{array}{rrr} 19\\\\11\\\\14\\\\14 \\end{array}\\right] \\hspace{1cm}\n",
    "\\end{equation}\n",
    "$$\n",
    "\n",
    "Una posible solución $\\mathbf{x}$ se logra de la diguiente forma:"
   ]
  },
  {
   "cell_type": "code",
   "execution_count": 112,
   "metadata": {},
   "outputs": [],
   "source": [
    "A = np.array([[8,6,4,1],[1,4,5,1],[8,4,1,1],[1,4,3,6]])\n",
    "b = np.array([19,11,14,14])\n",
    "x = la.solve(A,b)"
   ]
  },
  {
   "cell_type": "code",
   "execution_count": 113,
   "metadata": {},
   "outputs": [
    {
     "name": "stdout",
     "output_type": "stream",
     "text": [
      "[1. 1. 1. 1.]\n"
     ]
    }
   ],
   "source": [
    "print(x)"
   ]
  },
  {
   "cell_type": "markdown",
   "metadata": {},
   "source": [
    "Supongamos que ahora agregamos una pequeña perturvación al vector $\\mathbf{b}$ cambiando su valor a:\n",
    "$$\n",
    "\\begin{equation}\n",
    "   \\mathbf{b} = \\left[\\begin{array}{rrr} 19.01\\\\ 11.05\\\\ 14.07 \\\\14.05 \\end{array}\\right] \\hspace{1cm}\n",
    "\\end{equation}\n",
    "$$"
   ]
  },
  {
   "cell_type": "code",
   "execution_count": 115,
   "metadata": {},
   "outputs": [],
   "source": [
    "b = np.array([19.01,11.05,14.07,14.05])\n",
    "x = la.solve(A,b)"
   ]
  },
  {
   "cell_type": "code",
   "execution_count": 116,
   "metadata": {},
   "outputs": [
    {
     "name": "stdout",
     "output_type": "stream",
     "text": [
      "[-2.34   9.745 -4.85  -1.34 ]\n"
     ]
    }
   ],
   "source": [
    "print(x)"
   ]
  },
  {
   "cell_type": "markdown",
   "metadata": {},
   "source": [
    "Observa que las pequeñas perturbaciones en el vector resultado $\\mathbf{b}$ causan grandes diferencias en la solución. ¡Cuando esto ocurre, decimos que la matriz $\\mathbf{A}$ está mal condicionada! Esto sucede cuando una matriz está \"cerca\" de ser singular (es decir, no invertible)."
   ]
  },
  {
   "cell_type": "markdown",
   "metadata": {},
   "source": [
    "## Número de condición\n",
    "Una medida de este tipo de comportamiento se llama número de condición. Se define como:\n",
    "\\begin{equation}\n",
    "    cond(A) = ||A||\\cdot ||A^{-1}||\n",
    "\\end{equation}\n",
    "En general, es difícil de calcular:\n",
    "\\begin{equation}\n",
    "    cond(A) = \\frac{\\lambda_1}{\\lambda_n}\n",
    "\\end{equation}\n",
    "donde $\\lambda_1$ es valor singular máximo de $A$ y $\\lambda_n$ es el más pequeño. Cuanto mayor sea el número de condición, más inestable es el sistema. En general, si hay una gran discrepancia entre valores singulares mínimos y máximos, el número de condición es grande.\n"
   ]
  },
  {
   "cell_type": "code",
   "execution_count": 3,
   "metadata": {},
   "outputs": [
    {
     "ename": "NameError",
     "evalue": "name 'np' is not defined",
     "output_type": "error",
     "traceback": [
      "\u001b[1;31m---------------------------------------------------------------------------\u001b[0m",
      "\u001b[1;31mNameError\u001b[0m                                 Traceback (most recent call last)",
      "Cell \u001b[1;32mIn[3], line 1\u001b[0m\n\u001b[1;32m----> 1\u001b[0m A \u001b[38;5;241m=\u001b[39m np\u001b[38;5;241m.\u001b[39marray([[\u001b[38;5;241m1\u001b[39m,\u001b[38;5;241m2\u001b[39m,\u001b[38;5;241m3\u001b[39m],[\u001b[38;5;241m4\u001b[39m,\u001b[38;5;241m5\u001b[39m,\u001b[38;5;241m6\u001b[39m],[\u001b[38;5;241m7\u001b[39m,\u001b[38;5;241m8\u001b[39m,\u001b[38;5;241m9\u001b[39m]])\n\u001b[0;32m      2\u001b[0m A\n",
      "\u001b[1;31mNameError\u001b[0m: name 'np' is not defined"
     ]
    }
   ],
   "source": [
    "A = np.array([[1,2,3],[4,5,6],[7,8,9]])\n",
    "A"
   ]
  },
  {
   "cell_type": "code",
   "execution_count": 4,
   "metadata": {},
   "outputs": [
    {
     "ename": "NameError",
     "evalue": "name 'np' is not defined",
     "output_type": "error",
     "traceback": [
      "\u001b[1;31m---------------------------------------------------------------------------\u001b[0m",
      "\u001b[1;31mNameError\u001b[0m                                 Traceback (most recent call last)",
      "Cell \u001b[1;32mIn[4], line 1\u001b[0m\n\u001b[1;32m----> 1\u001b[0m U, s, V \u001b[38;5;241m=\u001b[39m np\u001b[38;5;241m.\u001b[39mlinalg\u001b[38;5;241m.\u001b[39msvd(A)\n\u001b[0;32m      2\u001b[0m \u001b[38;5;28mprint\u001b[39m(\u001b[38;5;124m\"\u001b[39m\u001b[38;5;130;01m\\x1B\u001b[39;00m\u001b[38;5;124m[3ms =\u001b[39m\u001b[38;5;124m\"\u001b[39m, s, \u001b[38;5;124m\"\u001b[39m\u001b[38;5;130;01m\\n\u001b[39;00m\u001b[38;5;124m\"\u001b[39m)\n\u001b[0;32m      3\u001b[0m \u001b[38;5;28mprint\u001b[39m(\u001b[38;5;124m\"\u001b[39m\u001b[38;5;130;01m\\x1B\u001b[39;00m\u001b[38;5;124m[3mcon(A)=\u001b[39m\u001b[38;5;124m\"\u001b[39m, \u001b[38;5;28mmax\u001b[39m(s)\u001b[38;5;241m/\u001b[39m\u001b[38;5;28mmin\u001b[39m(s))\n",
      "\u001b[1;31mNameError\u001b[0m: name 'np' is not defined"
     ]
    }
   ],
   "source": [
    "U, s, V = np.linalg.svd(A)\n",
    "print(\"\\x1B[3ms =\", s, \"\\n\")\n",
    "print(\"\\x1B[3mcon(A)=\", max(s)/min(s))\n"
   ]
  },
  {
   "cell_type": "code",
   "execution_count": 5,
   "metadata": {},
   "outputs": [
    {
     "ename": "NameError",
     "evalue": "name 'np' is not defined",
     "output_type": "error",
     "traceback": [
      "\u001b[1;31m---------------------------------------------------------------------------\u001b[0m",
      "\u001b[1;31mNameError\u001b[0m                                 Traceback (most recent call last)",
      "Cell \u001b[1;32mIn[5], line 1\u001b[0m\n\u001b[1;32m----> 1\u001b[0m D \u001b[38;5;241m=\u001b[39m np\u001b[38;5;241m.\u001b[39marray( [ [\u001b[38;5;241m1\u001b[39m, \u001b[38;5;241m9\u001b[39m, \u001b[38;5;241m2\u001b[39m, \u001b[38;5;241m1\u001b[39m, \u001b[38;5;241m1\u001b[39m], [\u001b[38;5;241m10\u001b[39m, \u001b[38;5;241m1\u001b[39m, \u001b[38;5;241m2\u001b[39m, \u001b[38;5;241m1\u001b[39m, \u001b[38;5;241m1\u001b[39m], [\u001b[38;5;241m1\u001b[39m, \u001b[38;5;241m0\u001b[39m, \u001b[38;5;241m5\u001b[39m, \u001b[38;5;241m1\u001b[39m, \u001b[38;5;241m1\u001b[39m], [\u001b[38;5;241m2\u001b[39m, \u001b[38;5;241m1\u001b[39m, \u001b[38;5;241m1\u001b[39m, \u001b[38;5;241m2\u001b[39m, \u001b[38;5;241m9\u001b[39m],[\u001b[38;5;241m2\u001b[39m, \u001b[38;5;241m1\u001b[39m, \u001b[38;5;241m2\u001b[39m, \u001b[38;5;241m13\u001b[39m, \u001b[38;5;241m2\u001b[39m]])\n\u001b[0;32m      3\u001b[0m \u001b[38;5;28mprint\u001b[39m(D)\n",
      "\u001b[1;31mNameError\u001b[0m: name 'np' is not defined"
     ]
    }
   ],
   "source": [
    "D = np.array( [ [1, 9, 2, 1, 1], [10, 1, 2, 1, 1], [1, 0, 5, 1, 1], [2, 1, 1, 2, 9],[2, 1, 2, 13, 2]])\n",
    "\n",
    "print(D)"
   ]
  },
  {
   "cell_type": "code",
   "execution_count": null,
   "metadata": {},
   "outputs": [],
   "source": [
    "U, s, V = np.linalg.svd(D)\n",
    "print(\"s =\", s, \"\\n\")\n",
    "print(\"cond(D) =\", max(s)/min(s))"
   ]
  },
  {
   "cell_type": "code",
   "execution_count": 2,
   "metadata": {},
   "outputs": [
    {
     "ename": "NameError",
     "evalue": "name 'la' is not defined",
     "output_type": "error",
     "traceback": [
      "\u001b[1;31m---------------------------------------------------------------------------\u001b[0m",
      "\u001b[1;31mNameError\u001b[0m                                 Traceback (most recent call last)",
      "Cell \u001b[1;32mIn[2], line 1\u001b[0m\n\u001b[1;32m----> 1\u001b[0m D_1 \u001b[38;5;241m=\u001b[39m la\u001b[38;5;241m.\u001b[39minv(D)\n\u001b[0;32m      2\u001b[0m \u001b[38;5;28mprint\u001b[39m(D_1)\n",
      "\u001b[1;31mNameError\u001b[0m: name 'la' is not defined"
     ]
    }
   ],
   "source": [
    "D_1 = la.inv(D)\n",
    "print(D_1)"
   ]
  },
  {
   "cell_type": "code",
   "execution_count": 107,
   "metadata": {},
   "outputs": [
    {
     "name": "stdout",
     "output_type": "stream",
     "text": [
      "[[ 1.  0. -0. -0. -0.]\n",
      " [ 0.  1. -0. -0. -0.]\n",
      " [-0. -0.  1.  0.  0.]\n",
      " [ 0.  0. -0.  1. -0.]\n",
      " [-0. -0.  0.  0.  1.]]\n"
     ]
    }
   ],
   "source": [
    "print(D_1 @ D)\n"
   ]
  },
  {
   "cell_type": "code",
   "execution_count": null,
   "metadata": {},
   "outputs": [],
   "source": []
  }
 ],
 "metadata": {
  "celltoolbar": "Slideshow",
  "kernelspec": {
   "display_name": "Python 3 (ipykernel)",
   "language": "python",
   "name": "python3"
  },
  "language_info": {
   "codemirror_mode": {
    "name": "ipython",
    "version": 3
   },
   "file_extension": ".py",
   "mimetype": "text/x-python",
   "name": "python",
   "nbconvert_exporter": "python",
   "pygments_lexer": "ipython3",
   "version": "3.12.4"
  }
 },
 "nbformat": 4,
 "nbformat_minor": 4
}
